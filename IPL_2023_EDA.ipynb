{
 "cells": [
  {
   "cell_type": "code",
   "execution_count": 2,
   "metadata": {},
   "outputs": [
    {
     "data": {
      "text/html": [
       "<div>\n",
       "<style scoped>\n",
       "    .dataframe tbody tr th:only-of-type {\n",
       "        vertical-align: middle;\n",
       "    }\n",
       "\n",
       "    .dataframe tbody tr th {\n",
       "        vertical-align: top;\n",
       "    }\n",
       "\n",
       "    .dataframe thead th {\n",
       "        text-align: right;\n",
       "    }\n",
       "</style>\n",
       "<table border=\"1\" class=\"dataframe\">\n",
       "  <thead>\n",
       "    <tr style=\"text-align: right;\">\n",
       "      <th></th>\n",
       "      <th>ID</th>\n",
       "      <th>Date</th>\n",
       "      <th>City</th>\n",
       "      <th>Venue</th>\n",
       "      <th>Team1</th>\n",
       "      <th>Team2</th>\n",
       "      <th>Toss Winner</th>\n",
       "      <th>Toss Decision</th>\n",
       "      <th>Winner</th>\n",
       "      <th>Win by Runs</th>\n",
       "      <th>Win by Wickets</th>\n",
       "      <th>Player of Match</th>\n",
       "      <th>Umpire1</th>\n",
       "      <th>Umpire2</th>\n",
       "    </tr>\n",
       "  </thead>\n",
       "  <tbody>\n",
       "    <tr>\n",
       "      <th>0</th>\n",
       "      <td>1</td>\n",
       "      <td>2023-05-15</td>\n",
       "      <td>Lucknow</td>\n",
       "      <td>Ekana Stadium</td>\n",
       "      <td>LSG</td>\n",
       "      <td>GT</td>\n",
       "      <td>LSG</td>\n",
       "      <td>Field</td>\n",
       "      <td>LSG</td>\n",
       "      <td>0</td>\n",
       "      <td>6</td>\n",
       "      <td>Player_44</td>\n",
       "      <td>KN Ananthapadmanabhan</td>\n",
       "      <td>Kumar Dharmasena</td>\n",
       "    </tr>\n",
       "    <tr>\n",
       "      <th>1</th>\n",
       "      <td>2</td>\n",
       "      <td>2023-05-13</td>\n",
       "      <td>Kolkata</td>\n",
       "      <td>Eden Gardens</td>\n",
       "      <td>SRH</td>\n",
       "      <td>GT</td>\n",
       "      <td>SRH</td>\n",
       "      <td>Bat</td>\n",
       "      <td>SRH</td>\n",
       "      <td>22</td>\n",
       "      <td>0</td>\n",
       "      <td>Player_30</td>\n",
       "      <td>Paul Reiffel</td>\n",
       "      <td>KN Ananthapadmanabhan</td>\n",
       "    </tr>\n",
       "    <tr>\n",
       "      <th>2</th>\n",
       "      <td>3</td>\n",
       "      <td>2023-05-17</td>\n",
       "      <td>Hyderabad</td>\n",
       "      <td>Rajiv Gandhi Intl. Stadium</td>\n",
       "      <td>PBKS</td>\n",
       "      <td>RCB</td>\n",
       "      <td>PBKS</td>\n",
       "      <td>Field</td>\n",
       "      <td>PBKS</td>\n",
       "      <td>32</td>\n",
       "      <td>0</td>\n",
       "      <td>Player_25</td>\n",
       "      <td>Nitin Menon</td>\n",
       "      <td>Bruce Oxenford</td>\n",
       "    </tr>\n",
       "    <tr>\n",
       "      <th>3</th>\n",
       "      <td>4</td>\n",
       "      <td>2023-03-31</td>\n",
       "      <td>Kolkata</td>\n",
       "      <td>Eden Gardens</td>\n",
       "      <td>RR</td>\n",
       "      <td>RCB</td>\n",
       "      <td>RCB</td>\n",
       "      <td>Field</td>\n",
       "      <td>RR</td>\n",
       "      <td>29</td>\n",
       "      <td>0</td>\n",
       "      <td>Player_31</td>\n",
       "      <td>Jayaraman Madanagopal</td>\n",
       "      <td>Anil Chaudhary</td>\n",
       "    </tr>\n",
       "    <tr>\n",
       "      <th>4</th>\n",
       "      <td>5</td>\n",
       "      <td>2023-04-24</td>\n",
       "      <td>Lucknow</td>\n",
       "      <td>Ekana Stadium</td>\n",
       "      <td>GT</td>\n",
       "      <td>SRH</td>\n",
       "      <td>SRH</td>\n",
       "      <td>Bat</td>\n",
       "      <td>SRH</td>\n",
       "      <td>0</td>\n",
       "      <td>9</td>\n",
       "      <td>Player_25</td>\n",
       "      <td>Nitin Menon</td>\n",
       "      <td>Kumar Dharmasena</td>\n",
       "    </tr>\n",
       "  </tbody>\n",
       "</table>\n",
       "</div>"
      ],
      "text/plain": [
       "   ID        Date       City                       Venue Team1 Team2  \\\n",
       "0   1  2023-05-15    Lucknow               Ekana Stadium   LSG    GT   \n",
       "1   2  2023-05-13    Kolkata                Eden Gardens   SRH    GT   \n",
       "2   3  2023-05-17  Hyderabad  Rajiv Gandhi Intl. Stadium  PBKS   RCB   \n",
       "3   4  2023-03-31    Kolkata                Eden Gardens    RR   RCB   \n",
       "4   5  2023-04-24    Lucknow               Ekana Stadium    GT   SRH   \n",
       "\n",
       "  Toss Winner Toss Decision Winner  Win by Runs  Win by Wickets  \\\n",
       "0         LSG         Field    LSG            0               6   \n",
       "1         SRH           Bat    SRH           22               0   \n",
       "2        PBKS         Field   PBKS           32               0   \n",
       "3         RCB         Field     RR           29               0   \n",
       "4         SRH           Bat    SRH            0               9   \n",
       "\n",
       "  Player of Match                Umpire1                Umpire2  \n",
       "0       Player_44  KN Ananthapadmanabhan       Kumar Dharmasena  \n",
       "1       Player_30           Paul Reiffel  KN Ananthapadmanabhan  \n",
       "2       Player_25            Nitin Menon         Bruce Oxenford  \n",
       "3       Player_31  Jayaraman Madanagopal         Anil Chaudhary  \n",
       "4       Player_25            Nitin Menon       Kumar Dharmasena  "
      ]
     },
     "execution_count": 2,
     "metadata": {},
     "output_type": "execute_result"
    }
   ],
   "source": [
    "\n",
    "# 🏏 IPL 2023 Exploratory Data Analysis by Heman\n",
    "\n",
    "import pandas as pd\n",
    "import matplotlib.pyplot as plt\n",
    "import seaborn as sns\n",
    "import os\n",
    "\n",
    "# ✅ Create 'plots' folder if it doesn't exist\n",
    "os.makedirs(\"plots\", exist_ok=True)\n",
    "\n",
    "# 📥 Load the dataset\n",
    "df = pd.read_csv(\"IPL_2023_Matches.csv\")\n",
    "df.head()\n"
   ]
  },
  {
   "cell_type": "code",
   "execution_count": 4,
   "metadata": {},
   "outputs": [
    {
     "name": "stdout",
     "output_type": "stream",
     "text": [
      "<class 'pandas.core.frame.DataFrame'>\n",
      "RangeIndex: 74 entries, 0 to 73\n",
      "Data columns (total 14 columns):\n",
      " #   Column           Non-Null Count  Dtype \n",
      "---  ------           --------------  ----- \n",
      " 0   ID               74 non-null     int64 \n",
      " 1   Date             74 non-null     object\n",
      " 2   City             74 non-null     object\n",
      " 3   Venue            74 non-null     object\n",
      " 4   Team1            74 non-null     object\n",
      " 5   Team2            74 non-null     object\n",
      " 6   Toss Winner      74 non-null     object\n",
      " 7   Toss Decision    74 non-null     object\n",
      " 8   Winner           74 non-null     object\n",
      " 9   Win by Runs      74 non-null     int64 \n",
      " 10  Win by Wickets   74 non-null     int64 \n",
      " 11  Player of Match  74 non-null     object\n",
      " 12  Umpire1          74 non-null     object\n",
      " 13  Umpire2          74 non-null     object\n",
      "dtypes: int64(3), object(11)\n",
      "memory usage: 8.2+ KB\n"
     ]
    },
    {
     "data": {
      "text/html": [
       "<div>\n",
       "<style scoped>\n",
       "    .dataframe tbody tr th:only-of-type {\n",
       "        vertical-align: middle;\n",
       "    }\n",
       "\n",
       "    .dataframe tbody tr th {\n",
       "        vertical-align: top;\n",
       "    }\n",
       "\n",
       "    .dataframe thead th {\n",
       "        text-align: right;\n",
       "    }\n",
       "</style>\n",
       "<table border=\"1\" class=\"dataframe\">\n",
       "  <thead>\n",
       "    <tr style=\"text-align: right;\">\n",
       "      <th></th>\n",
       "      <th>ID</th>\n",
       "      <th>Win by Runs</th>\n",
       "      <th>Win by Wickets</th>\n",
       "    </tr>\n",
       "  </thead>\n",
       "  <tbody>\n",
       "    <tr>\n",
       "      <th>count</th>\n",
       "      <td>74.000000</td>\n",
       "      <td>74.000000</td>\n",
       "      <td>74.000000</td>\n",
       "    </tr>\n",
       "    <tr>\n",
       "      <th>mean</th>\n",
       "      <td>37.500000</td>\n",
       "      <td>18.391892</td>\n",
       "      <td>2.324324</td>\n",
       "    </tr>\n",
       "    <tr>\n",
       "      <th>std</th>\n",
       "      <td>21.505813</td>\n",
       "      <td>19.655818</td>\n",
       "      <td>3.420759</td>\n",
       "    </tr>\n",
       "    <tr>\n",
       "      <th>min</th>\n",
       "      <td>1.000000</td>\n",
       "      <td>0.000000</td>\n",
       "      <td>0.000000</td>\n",
       "    </tr>\n",
       "    <tr>\n",
       "      <th>25%</th>\n",
       "      <td>19.250000</td>\n",
       "      <td>0.000000</td>\n",
       "      <td>0.000000</td>\n",
       "    </tr>\n",
       "    <tr>\n",
       "      <th>50%</th>\n",
       "      <td>37.500000</td>\n",
       "      <td>14.000000</td>\n",
       "      <td>0.000000</td>\n",
       "    </tr>\n",
       "    <tr>\n",
       "      <th>75%</th>\n",
       "      <td>55.750000</td>\n",
       "      <td>35.000000</td>\n",
       "      <td>5.000000</td>\n",
       "    </tr>\n",
       "    <tr>\n",
       "      <th>max</th>\n",
       "      <td>74.000000</td>\n",
       "      <td>60.000000</td>\n",
       "      <td>10.000000</td>\n",
       "    </tr>\n",
       "  </tbody>\n",
       "</table>\n",
       "</div>"
      ],
      "text/plain": [
       "              ID  Win by Runs  Win by Wickets\n",
       "count  74.000000    74.000000       74.000000\n",
       "mean   37.500000    18.391892        2.324324\n",
       "std    21.505813    19.655818        3.420759\n",
       "min     1.000000     0.000000        0.000000\n",
       "25%    19.250000     0.000000        0.000000\n",
       "50%    37.500000    14.000000        0.000000\n",
       "75%    55.750000    35.000000        5.000000\n",
       "max    74.000000    60.000000       10.000000"
      ]
     },
     "execution_count": 4,
     "metadata": {},
     "output_type": "execute_result"
    }
   ],
   "source": [
    "# 🧠 Basic Info About Dataset\n",
    "\n",
    "df.info()\n",
    "df.describe()\n"
   ]
  },
  {
   "cell_type": "code",
   "execution_count": 6,
   "metadata": {},
   "outputs": [
    {
     "data": {
      "text/plain": [
       "ID                 0\n",
       "Date               0\n",
       "City               0\n",
       "Venue              0\n",
       "Team1              0\n",
       "Team2              0\n",
       "Toss Winner        0\n",
       "Toss Decision      0\n",
       "Winner             0\n",
       "Win by Runs        0\n",
       "Win by Wickets     0\n",
       "Player of Match    0\n",
       "Umpire1            0\n",
       "Umpire2            0\n",
       "dtype: int64"
      ]
     },
     "execution_count": 6,
     "metadata": {},
     "output_type": "execute_result"
    }
   ],
   "source": [
    "# 🔎 Check for Null Values\n",
    "\n",
    "df.isnull().sum()\n"
   ]
  },
  {
   "cell_type": "code",
   "execution_count": 10,
   "metadata": {},
   "outputs": [
    {
     "name": "stderr",
     "output_type": "stream",
     "text": [
      "/var/folders/hl/ryxkz6jx1l9d8tv4sxrcmvdw0000gn/T/ipykernel_22485/4220884393.py:6: FutureWarning: \n",
      "\n",
      "Passing `palette` without assigning `hue` is deprecated and will be removed in v0.14.0. Assign the `x` variable to `hue` and set `legend=False` for the same effect.\n",
      "\n",
      "  sns.barplot(x=top_winners.index, y=top_winners.values, palette='viridis')\n"
     ]
    },
    {
     "data": {
      "image/png": "[encoded data removed]",
      "text/plain": [
       "<Figure size 800x500 with 1 Axes>"
      ]
     },
     "metadata": {},
     "output_type": "display_data"
    }
   ],
   "source": [
    "# 🏆 Top 5 Winning Teams\n",
    "\n",
    "top_winners = df['Winner'].value_counts().head(5)\n",
    "\n",
    "plt.figure(figsize=(8, 5))\n",
    "sns.barplot(x=top_winners.index, y=top_winners.values, palette='viridis')\n",
    "plt.title(\"Top 5 Winning Teams - IPL 2023\")\n",
    "plt.xlabel(\"Teams\")\n",
    "plt.ylabel(\"Number of Wins\")\n",
    "plt.xticks(rotation=45)\n",
    "plt.tight_layout()\n",
    "plt.savefig(\"plots/winners_plot.png\")  # ✅ Save plot image\n",
    "plt.show()"
   ]
  },
  {
   "cell_type": "code",
   "execution_count": 12,
   "metadata": {},
   "outputs": [
    {
     "name": "stderr",
     "output_type": "stream",
     "text": [
      "/var/folders/hl/ryxkz6jx1l9d8tv4sxrcmvdw0000gn/T/ipykernel_22485/2800750994.py:4: FutureWarning: \n",
      "\n",
      "Passing `palette` without assigning `hue` is deprecated and will be removed in v0.14.0. Assign the `x` variable to `hue` and set `legend=False` for the same effect.\n",
      "\n",
      "  sns.countplot(x=\"Toss Decision\", data=df, palette=\"magma\")\n"
     ]
    },
    {
     "data": {
      "image/png": "[encoded data removed]",
      "text/plain": [
       "<Figure size 600x400 with 1 Axes>"
      ]
     },
     "metadata": {},
     "output_type": "display_data"
    }
   ],
   "source": [
    "# 🎯 Toss Decision Trends\n",
    "\n",
    "plt.figure(figsize=(6, 4))\n",
    "sns.countplot(x=\"Toss Decision\", data=df, palette=\"magma\")\n",
    "plt.title(\"Toss Decision Frequency\")\n",
    "plt.xlabel(\"Decision\")\n",
    "plt.ylabel(\"Count\")\n",
    "plt.tight_layout()\n",
    "plt.savefig(\"plots/toss_decision.png\")  # ✅ Save plot\n",
    "plt.show()\n"
   ]
  },
  {
   "cell_type": "code",
   "execution_count": 24,
   "metadata": {},
   "outputs": [
    {
     "name": "stderr",
     "output_type": "stream",
     "text": [
      "/var/folders/hl/ryxkz6jx1l9d8tv4sxrcmvdw0000gn/T/ipykernel_22485/2173328077.py:6: FutureWarning: \n",
      "\n",
      "Passing `palette` without assigning `hue` is deprecated and will be removed in v0.14.0. Assign the `x` variable to `hue` and set `legend=False` for the same effect.\n",
      "\n",
      "  sns.barplot(x=top_players.index, y=top_players.values, palette='coolwarm')\n"
     ]
    },
    {
     "data": {
      "image/png": "[encoded data removed]",
      "text/plain": [
       "<Figure size 800x500 with 1 Axes>"
      ]
     },
     "metadata": {},
     "output_type": "display_data"
    }
   ],
   "source": [
    "# 🥇 Most 'Player of the Match' Awards\n",
    "\n",
    "top_players = df['Player of the Match'].value_counts().head(5)\n",
    "\n",
    "plt.figure(figsize=(8, 5))\n",
    "sns.barplot(x=top_players.index, y=top_players.values, palette='coolwarm')\n",
    "plt.title(\"Top 5 Players of the Match - IPL 2023\")\n",
    "plt.xlabel(\"Player\")\n",
    "plt.ylabel(\"Awards\")\n",
    "plt.xticks(rotation=45)\n",
    "plt.tight_layout()\n",
    "plt.savefig(\"plots/player_of_match.png\")  # ✅ Save plot\n",
    "plt.show()\n"
   ]
  },
  {
   "cell_type": "code",
   "execution_count": 16,
   "metadata": {},
   "outputs": [
    {
     "name": "stdout",
     "output_type": "stream",
     "text": [
      "Index(['ID', 'Date', 'City', 'Venue', 'Team1', 'Team2', 'Toss Winner',\n",
      "       'Toss Decision', 'Winner', 'Win by Runs', 'Win by Wickets',\n",
      "       'Player of Match', 'Umpire1', 'Umpire2'],\n",
      "      dtype='object')\n"
     ]
    }
   ],
   "source": [
    "print(df.columns)\n"
   ]
  },
  {
   "cell_type": "code",
   "execution_count": 18,
   "metadata": {},
   "outputs": [],
   "source": [
    "top_players = df['Player of Match'].value_counts().head(5)\n"
   ]
  },
  {
   "cell_type": "code",
   "execution_count": 22,
   "metadata": {},
   "outputs": [],
   "source": [
    "import pandas as pd\n",
    "\n",
    "df = pd.read_csv(\"IPL_2023_Matches.csv\")\n",
    "df.rename(columns={\"Player of Match\": \"Player of the Match\"}, inplace=True)\n",
    "df.to_csv(\"IPL_2023_Matches.csv\", index=False)"
   ]
  },
  {
   "cell_type": "code",
   "execution_count": null,
   "metadata": {},
   "outputs": [],
   "source": []
  }
 ],
 "metadata": {
  "kernelspec": {
   "display_name": "Python 3 (ipykernel)",
   "language": "python",
   "name": "python3"
  },
  "language_info": {
   "codemirror_mode": {
    "name": "ipython",
    "version": 3
   },
   "file_extension": ".py",
   "mimetype": "text/x-python",
   "name": "python",
   "nbconvert_exporter": "python",
   "pygments_lexer": "ipython3",
   "version": "3.12.4"
  }
 },
 "nbformat": 4,
 "nbformat_minor": 4
}
